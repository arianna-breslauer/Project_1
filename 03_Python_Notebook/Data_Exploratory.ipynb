{
 "cells": [
  {
   "cell_type": "code",
   "execution_count": null,
   "metadata": {},
   "outputs": [],
   "source": [
    "# Explore turnstile data to look at how people exit stations before a large event\n",
    "# and enter stations afterwards. Goal is to assist police in redirecting traffic flow \n",
    "# through high density stations as a means to improve pedestrian safety\n",
    "# Consider Grand Central Station on two events: 4th Of Jult Fireworks (to the east of the statiobn) and \n",
    "# St. Patrick's Day Parade (to the west of the station). How do people exit the station to get to the event\n",
    "# how do people re-enter the station after the event?\n",
    "# what time do people start to crowd the station? \n",
    "# how does this compare to a typical weekday?"
   ]
  },
  {
   "cell_type": "code",
   "execution_count": 1,
   "metadata": {},
   "outputs": [],
   "source": [
    "import pandas as pd\n",
    "import numpy as np\n",
    "import matplotlib.pyplot as plt\n",
    "\n",
    "from IPython.display import Image\n",
    "\n",
    "# enables inline plots, without it plots don't show up in the notebook\n",
    "%matplotlib inline"
   ]
  },
  {
   "cell_type": "code",
   "execution_count": 43,
   "metadata": {},
   "outputs": [],
   "source": [
    "# various options in pandas\n",
    "pd.set_option('display.max_columns', 25)\n",
    "pd.set_option('display.max_rows', 75)\n",
    "pd.set_option('display.precision', 3)"
   ]
  },
  {
   "cell_type": "code",
   "execution_count": 3,
   "metadata": {},
   "outputs": [],
   "source": [
    "mta_df = pd.read_csv('../01_Data/turnstile_180707.txt')   #read CSV of data including July 4th 2018"
   ]
  },
  {
   "cell_type": "code",
   "execution_count": 19,
   "metadata": {},
   "outputs": [],
   "source": [
    "gct_df = mta_df[mta_df.STATION == 'GRD CNTRL-42 ST'] #Isolate only Grand Central Station data"
   ]
  },
  {
   "cell_type": "code",
   "execution_count": 32,
   "metadata": {},
   "outputs": [],
   "source": [
    "gct_74_df = gct_df[gct_df.DATE == '07/04/2018']  #isolate only July 4th"
   ]
  },
  {
   "cell_type": "code",
   "execution_count": 35,
   "metadata": {},
   "outputs": [
    {
     "data": {
      "text/html": [
       "<div>\n",
       "<style scoped>\n",
       "    .dataframe tbody tr th:only-of-type {\n",
       "        vertical-align: middle;\n",
       "    }\n",
       "\n",
       "    .dataframe tbody tr th {\n",
       "        vertical-align: top;\n",
       "    }\n",
       "\n",
       "    .dataframe thead th {\n",
       "        text-align: right;\n",
       "    }\n",
       "</style>\n",
       "<table border=\"1\" class=\"dataframe\">\n",
       "  <thead>\n",
       "    <tr style=\"text-align: right;\">\n",
       "      <th></th>\n",
       "      <th>C/A</th>\n",
       "      <th>UNIT</th>\n",
       "      <th>SCP</th>\n",
       "      <th>STATION</th>\n",
       "      <th>LINENAME</th>\n",
       "      <th>DIVISION</th>\n",
       "      <th>DATE</th>\n",
       "      <th>TIME</th>\n",
       "      <th>DESC</th>\n",
       "      <th>ENTRIES</th>\n",
       "      <th>EXITS</th>\n",
       "    </tr>\n",
       "  </thead>\n",
       "  <tbody>\n",
       "    <tr>\n",
       "      <th>151016</th>\n",
       "      <td>R236</td>\n",
       "      <td>R045</td>\n",
       "      <td>00-00-00</td>\n",
       "      <td>GRD CNTRL-42 ST</td>\n",
       "      <td>4567S</td>\n",
       "      <td>IRT</td>\n",
       "      <td>07/04/2018</td>\n",
       "      <td>01:00:00</td>\n",
       "      <td>REGULAR</td>\n",
       "      <td>1474370</td>\n",
       "      <td>4172636</td>\n",
       "    </tr>\n",
       "    <tr>\n",
       "      <th>151017</th>\n",
       "      <td>R236</td>\n",
       "      <td>R045</td>\n",
       "      <td>00-00-00</td>\n",
       "      <td>GRD CNTRL-42 ST</td>\n",
       "      <td>4567S</td>\n",
       "      <td>IRT</td>\n",
       "      <td>07/04/2018</td>\n",
       "      <td>05:00:00</td>\n",
       "      <td>REGULAR</td>\n",
       "      <td>1474372</td>\n",
       "      <td>4172645</td>\n",
       "    </tr>\n",
       "    <tr>\n",
       "      <th>151018</th>\n",
       "      <td>R236</td>\n",
       "      <td>R045</td>\n",
       "      <td>00-00-00</td>\n",
       "      <td>GRD CNTRL-42 ST</td>\n",
       "      <td>4567S</td>\n",
       "      <td>IRT</td>\n",
       "      <td>07/04/2018</td>\n",
       "      <td>09:00:00</td>\n",
       "      <td>REGULAR</td>\n",
       "      <td>1474385</td>\n",
       "      <td>4172766</td>\n",
       "    </tr>\n",
       "    <tr>\n",
       "      <th>151019</th>\n",
       "      <td>R236</td>\n",
       "      <td>R045</td>\n",
       "      <td>00-00-00</td>\n",
       "      <td>GRD CNTRL-42 ST</td>\n",
       "      <td>4567S</td>\n",
       "      <td>IRT</td>\n",
       "      <td>07/04/2018</td>\n",
       "      <td>13:00:00</td>\n",
       "      <td>REGULAR</td>\n",
       "      <td>1474430</td>\n",
       "      <td>4173064</td>\n",
       "    </tr>\n",
       "    <tr>\n",
       "      <th>151020</th>\n",
       "      <td>R236</td>\n",
       "      <td>R045</td>\n",
       "      <td>00-00-00</td>\n",
       "      <td>GRD CNTRL-42 ST</td>\n",
       "      <td>4567S</td>\n",
       "      <td>IRT</td>\n",
       "      <td>07/04/2018</td>\n",
       "      <td>17:00:00</td>\n",
       "      <td>REGULAR</td>\n",
       "      <td>1474541</td>\n",
       "      <td>4173376</td>\n",
       "    </tr>\n",
       "    <tr>\n",
       "      <th>151021</th>\n",
       "      <td>R236</td>\n",
       "      <td>R045</td>\n",
       "      <td>00-00-00</td>\n",
       "      <td>GRD CNTRL-42 ST</td>\n",
       "      <td>4567S</td>\n",
       "      <td>IRT</td>\n",
       "      <td>07/04/2018</td>\n",
       "      <td>21:00:00</td>\n",
       "      <td>REGULAR</td>\n",
       "      <td>1474625</td>\n",
       "      <td>4173909</td>\n",
       "    </tr>\n",
       "    <tr>\n",
       "      <th>151058</th>\n",
       "      <td>R236</td>\n",
       "      <td>R045</td>\n",
       "      <td>00-00-01</td>\n",
       "      <td>GRD CNTRL-42 ST</td>\n",
       "      <td>4567S</td>\n",
       "      <td>IRT</td>\n",
       "      <td>07/04/2018</td>\n",
       "      <td>01:00:00</td>\n",
       "      <td>REGULAR</td>\n",
       "      <td>328902</td>\n",
       "      <td>705497</td>\n",
       "    </tr>\n",
       "    <tr>\n",
       "      <th>151059</th>\n",
       "      <td>R236</td>\n",
       "      <td>R045</td>\n",
       "      <td>00-00-01</td>\n",
       "      <td>GRD CNTRL-42 ST</td>\n",
       "      <td>4567S</td>\n",
       "      <td>IRT</td>\n",
       "      <td>07/04/2018</td>\n",
       "      <td>05:00:00</td>\n",
       "      <td>REGULAR</td>\n",
       "      <td>328902</td>\n",
       "      <td>705501</td>\n",
       "    </tr>\n",
       "    <tr>\n",
       "      <th>151060</th>\n",
       "      <td>R236</td>\n",
       "      <td>R045</td>\n",
       "      <td>00-00-01</td>\n",
       "      <td>GRD CNTRL-42 ST</td>\n",
       "      <td>4567S</td>\n",
       "      <td>IRT</td>\n",
       "      <td>07/04/2018</td>\n",
       "      <td>09:00:00</td>\n",
       "      <td>REGULAR</td>\n",
       "      <td>328916</td>\n",
       "      <td>705608</td>\n",
       "    </tr>\n",
       "    <tr>\n",
       "      <th>151061</th>\n",
       "      <td>R236</td>\n",
       "      <td>R045</td>\n",
       "      <td>00-00-01</td>\n",
       "      <td>GRD CNTRL-42 ST</td>\n",
       "      <td>4567S</td>\n",
       "      <td>IRT</td>\n",
       "      <td>07/04/2018</td>\n",
       "      <td>13:00:00</td>\n",
       "      <td>REGULAR</td>\n",
       "      <td>328955</td>\n",
       "      <td>705878</td>\n",
       "    </tr>\n",
       "  </tbody>\n",
       "</table>\n",
       "</div>"
      ],
      "text/plain": [
       "         C/A  UNIT       SCP          STATION LINENAME DIVISION        DATE  \\\n",
       "151016  R236  R045  00-00-00  GRD CNTRL-42 ST    4567S      IRT  07/04/2018   \n",
       "151017  R236  R045  00-00-00  GRD CNTRL-42 ST    4567S      IRT  07/04/2018   \n",
       "151018  R236  R045  00-00-00  GRD CNTRL-42 ST    4567S      IRT  07/04/2018   \n",
       "151019  R236  R045  00-00-00  GRD CNTRL-42 ST    4567S      IRT  07/04/2018   \n",
       "151020  R236  R045  00-00-00  GRD CNTRL-42 ST    4567S      IRT  07/04/2018   \n",
       "151021  R236  R045  00-00-00  GRD CNTRL-42 ST    4567S      IRT  07/04/2018   \n",
       "151058  R236  R045  00-00-01  GRD CNTRL-42 ST    4567S      IRT  07/04/2018   \n",
       "151059  R236  R045  00-00-01  GRD CNTRL-42 ST    4567S      IRT  07/04/2018   \n",
       "151060  R236  R045  00-00-01  GRD CNTRL-42 ST    4567S      IRT  07/04/2018   \n",
       "151061  R236  R045  00-00-01  GRD CNTRL-42 ST    4567S      IRT  07/04/2018   \n",
       "\n",
       "            TIME     DESC  ENTRIES  \\\n",
       "151016  01:00:00  REGULAR  1474370   \n",
       "151017  05:00:00  REGULAR  1474372   \n",
       "151018  09:00:00  REGULAR  1474385   \n",
       "151019  13:00:00  REGULAR  1474430   \n",
       "151020  17:00:00  REGULAR  1474541   \n",
       "151021  21:00:00  REGULAR  1474625   \n",
       "151058  01:00:00  REGULAR   328902   \n",
       "151059  05:00:00  REGULAR   328902   \n",
       "151060  09:00:00  REGULAR   328916   \n",
       "151061  13:00:00  REGULAR   328955   \n",
       "\n",
       "        EXITS                                                                 \n",
       "151016                                            4172636                     \n",
       "151017                                            4172645                     \n",
       "151018                                            4172766                     \n",
       "151019                                            4173064                     \n",
       "151020                                            4173376                     \n",
       "151021                                            4173909                     \n",
       "151058                                             705497                     \n",
       "151059                                             705501                     \n",
       "151060                                             705608                     \n",
       "151061                                             705878                     "
      ]
     },
     "execution_count": 35,
     "metadata": {},
     "output_type": "execute_result"
    }
   ],
   "source": [
    "gct_74_df.head(10)"
   ]
  },
  {
   "cell_type": "code",
   "execution_count": 56,
   "metadata": {},
   "outputs": [
    {
     "data": {
      "text/plain": [
       "R238     108\n",
       "R236      71\n",
       "R240      66\n",
       "R238A     48\n",
       "R237      42\n",
       "R241A     30\n",
       "R237B     24\n",
       "Name: C/A, dtype: int64"
      ]
     },
     "execution_count": 56,
     "metadata": {},
     "output_type": "execute_result"
    }
   ],
   "source": [
    "gct_74_df[\"C/A\"].value_counts()"
   ]
  },
  {
   "cell_type": "code",
   "execution_count": 55,
   "metadata": {},
   "outputs": [
    {
     "data": {
      "text/plain": [
       "R046    198\n",
       "R047     90\n",
       "R045     71\n",
       "R048     30\n",
       "Name: UNIT, dtype: int64"
      ]
     },
     "execution_count": 55,
     "metadata": {},
     "output_type": "execute_result"
    }
   ],
   "source": [
    "gct_74_df[\"UNIT\"].value_counts()"
   ]
  },
  {
   "cell_type": "code",
   "execution_count": 54,
   "metadata": {},
   "outputs": [
    {
     "data": {
      "text/plain": [
       "00-00-01    24\n",
       "00-00-00    24\n",
       "00-00-03    18\n",
       "00-03-03    18\n",
       "00-03-01    18\n",
       "00-00-04    18\n",
       "00-03-00    18\n",
       "00-00-02    18\n",
       "00-03-02    17\n",
       "01-00-01    12\n",
       "00-06-01    12\n",
       "01-00-02    12\n",
       "01-00-03    12\n",
       "01-00-00    12\n",
       "00-06-00    12\n",
       "00-00-05    12\n",
       "00-03-04    12\n",
       "02-00-04     6\n",
       "02-03-00     6\n",
       "00-05-01     6\n",
       "02-00-00     6\n",
       "01-00-04     6\n",
       "00-03-05     6\n",
       "00-03-08     6\n",
       "02-00-02     6\n",
       "00-03-07     6\n",
       "00-03-06     6\n",
       "02-03-02     6\n",
       "00-06-02     6\n",
       "00-00-07     6\n",
       "00-05-00     6\n",
       "02-03-01     6\n",
       "02-00-01     6\n",
       "01-00-05     6\n",
       "01-00-06     6\n",
       "00-00-06     6\n",
       "02-00-03     6\n",
       "Name: SCP, dtype: int64"
      ]
     },
     "execution_count": 54,
     "metadata": {},
     "output_type": "execute_result"
    }
   ],
   "source": [
    "gct_74_df[\"SCP\"].value_counts()"
   ]
  },
  {
   "cell_type": "code",
   "execution_count": 46,
   "metadata": {},
   "outputs": [
    {
     "data": {
      "text/plain": [
       "array(['00-00-00', '00-00-01', '00-00-02', '00-00-03', '00-00-04',\n",
       "       '00-00-05', '00-03-00', '00-03-01', '00-03-02', '00-03-03',\n",
       "       '00-06-00', '00-06-01'], dtype=object)"
      ]
     },
     "execution_count": 46,
     "metadata": {},
     "output_type": "execute_result"
    }
   ],
   "source": [
    "gct_74_df[gct_74_df.UNIT == 'R045']['SCP'].unique()"
   ]
  },
  {
   "cell_type": "code",
   "execution_count": null,
   "metadata": {},
   "outputs": [],
   "source": []
  },
  {
   "cell_type": "code",
   "execution_count": null,
   "metadata": {},
   "outputs": [],
   "source": []
  }
 ],
 "metadata": {
  "kernelspec": {
   "display_name": "Python 3",
   "language": "python",
   "name": "python3"
  },
  "language_info": {
   "codemirror_mode": {
    "name": "ipython",
    "version": 3
   },
   "file_extension": ".py",
   "mimetype": "text/x-python",
   "name": "python",
   "nbconvert_exporter": "python",
   "pygments_lexer": "ipython3",
   "version": "3.6.5"
  }
 },
 "nbformat": 4,
 "nbformat_minor": 2
}
